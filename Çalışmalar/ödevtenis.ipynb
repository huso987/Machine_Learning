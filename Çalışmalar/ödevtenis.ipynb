{
 "cells": [
  {
   "cell_type": "code",
   "execution_count": 3,
   "id": "3f6e50d4-8bfc-483e-bb81-d90ae8d66ac3",
   "metadata": {},
   "outputs": [
    {
     "name": "stdout",
     "output_type": "stream",
     "text": [
      "     outlook  temperature  humidity  windy play\n",
      "0      sunny           85        85  False   no\n",
      "1      sunny           80        90   True   no\n",
      "2   overcast           83        86  False  yes\n",
      "3      rainy           70        96  False  yes\n",
      "4      rainy           68        80  False  yes\n",
      "5      rainy           65        70   True   no\n",
      "6   overcast           64        65   True  yes\n",
      "7      sunny           72        95  False   no\n",
      "8      sunny           69        70  False  yes\n",
      "9      rainy           75        80  False  yes\n",
      "10     sunny           75        70   True  yes\n",
      "11  overcast           72        90   True  yes\n",
      "12  overcast           81        75  False  yes\n",
      "13     rainy           71        91   True   no\n"
     ]
    }
   ],
   "source": [
    "import pandas as pd\n",
    "import matplotlib.pyplot as plt\n",
    "import numpy as np\n",
    "#veri yükleme\n",
    "veriler = pd.read_csv('odev_tenis.csv')\n",
    "print(veriler)"
   ]
  },
  {
   "cell_type": "code",
   "execution_count": 14,
   "id": "ad8670e5-0fde-41bd-a690-41a89b97482f",
   "metadata": {},
   "outputs": [
    {
     "name": "stdout",
     "output_type": "stream",
     "text": [
      "    outlook  temperature  humidity  windy  play\n",
      "0         2           11         4      0     0\n",
      "1         2            8         6      1     0\n",
      "2         0           10         5      0     1\n",
      "3         1            4         9      0     1\n",
      "4         1            2         3      0     1\n",
      "5         1            1         1      1     0\n",
      "6         0            0         0      1     1\n",
      "7         2            6         8      0     0\n",
      "8         2            3         1      0     1\n",
      "9         1            7         3      0     1\n",
      "10        2            7         1      1     1\n",
      "11        0            6         6      1     1\n",
      "12        0            9         2      0     1\n",
      "13        1            5         7      1     0\n"
     ]
    }
   ],
   "source": [
    "#tüm verileri aynı anda encoding etme\n",
    "from sklearn import preprocessing\n",
    "veriler2 = veriler.apply(preprocessing.LabelEncoder().fit_transform) \n",
    "print(veriler2)"
   ]
  },
  {
   "cell_type": "code",
   "execution_count": 33,
   "id": "bbed0e63-8d2f-48b9-a824-d4566f48dc02",
   "metadata": {},
   "outputs": [
    {
     "name": "stdout",
     "output_type": "stream",
     "text": [
      "    windy  play    o    r    s  temperature  humidity\n",
      "0       0     0  0.0  0.0  1.0           85        85\n",
      "1       1     0  0.0  0.0  1.0           80        90\n",
      "2       0     1  1.0  0.0  0.0           83        86\n",
      "3       0     1  0.0  1.0  0.0           70        96\n",
      "4       0     1  0.0  1.0  0.0           68        80\n",
      "5       1     0  0.0  1.0  0.0           65        70\n",
      "6       1     1  1.0  0.0  0.0           64        65\n",
      "7       0     0  0.0  0.0  1.0           72        95\n",
      "8       0     1  0.0  0.0  1.0           69        70\n",
      "9       0     1  0.0  1.0  0.0           75        80\n",
      "10      1     1  0.0  0.0  1.0           75        70\n",
      "11      1     1  1.0  0.0  0.0           72        90\n",
      "12      0     1  1.0  0.0  0.0           81        75\n",
      "13      1     0  0.0  1.0  0.0           71        91\n"
     ]
    }
   ],
   "source": [
    "c = veriler2.iloc[:,:1]\n",
    "ohe = preprocessing.OneHotEncoder()\n",
    "c = ohe.fit_transform(c).toarray()\n",
    "havadurumu = pd.DataFrame(data=c, index= range(14), columns= ['o', 'r', 's'])\n",
    "sonveriler = pd.concat([havadurumu, veriler.iloc[:,1:3]], axis=1)\n",
    "sonveriler = pd.concat([veriler2.iloc[:,-2:],sonveriler], axis=1)\n",
    "print(sonveriler)"
   ]
  },
  {
   "cell_type": "code",
   "execution_count": 34,
   "id": "9f7761ff-82d2-4d6f-98ee-2bcea7f9ee41",
   "metadata": {},
   "outputs": [],
   "source": [
    "from sklearn.model_selection import train_test_split\n",
    "x_train, x_test, y_train, y_test =  train_test_split(sonveriler.iloc[:,:-1], sonveriler.iloc[:,-1:], test_size=0.33, random_state=0)"
   ]
  },
  {
   "cell_type": "code",
   "execution_count": 30,
   "id": "308e2399-f7d6-403d-946b-3349f51abf29",
   "metadata": {},
   "outputs": [
    {
     "data": {
      "text/plain": [
       "(      o    r    s  temperature\n",
       " 13  0.0  1.0  0.0           71\n",
       " 9   0.0  1.0  0.0           75\n",
       " 1   0.0  0.0  1.0           80\n",
       " 7   0.0  0.0  1.0           72\n",
       " 10  0.0  0.0  1.0           75\n",
       " 3   0.0  1.0  0.0           70\n",
       " 0   0.0  0.0  1.0           85\n",
       " 5   0.0  1.0  0.0           65\n",
       " 12  1.0  0.0  0.0           81,\n",
       "       o    r    s  temperature\n",
       " 8   0.0  0.0  1.0           69\n",
       " 6   1.0  0.0  0.0           64\n",
       " 4   0.0  1.0  0.0           68\n",
       " 11  1.0  0.0  0.0           72\n",
       " 2   1.0  0.0  0.0           83,\n",
       "     humidity\n",
       " 13        91\n",
       " 9         80\n",
       " 1         90\n",
       " 7         95\n",
       " 10        70\n",
       " 3         96\n",
       " 0         85\n",
       " 5         70\n",
       " 12        75,\n",
       "     humidity\n",
       " 8         70\n",
       " 6         65\n",
       " 4         80\n",
       " 11        90\n",
       " 2         86)"
      ]
     },
     "execution_count": 30,
     "metadata": {},
     "output_type": "execute_result"
    }
   ],
   "source": [
    "x_train, x_test, y_train, y_test"
   ]
  },
  {
   "cell_type": "code",
   "execution_count": 35,
   "id": "41db259e-3b16-40fd-b6f8-2896e8ddddb5",
   "metadata": {},
   "outputs": [
    {
     "name": "stdout",
     "output_type": "stream",
     "text": [
      "[[84.45365573]\n",
      " [63.93839954]\n",
      " [85.76050662]\n",
      " [64.21013241]\n",
      " [75.06793322]]\n"
     ]
    }
   ],
   "source": [
    "from sklearn.linear_model import LinearRegression\n",
    "regressor = LinearRegression()\n",
    "regressor.fit(x_train,y_train)\n",
    "y_pred = regressor.predict(x_test)\n",
    "print(y_pred)"
   ]
  },
  {
   "cell_type": "code",
   "execution_count": 39,
   "id": "f81a430d-e3d9-4395-a7be-981c020d52ed",
   "metadata": {},
   "outputs": [
    {
     "name": "stdout",
     "output_type": "stream",
     "text": [
      "[[ 1.  0.  0.  0.  0.  1. 85.]\n",
      " [ 1.  1.  0.  0.  0.  1. 80.]\n",
      " [ 1.  0.  1.  1.  0.  0. 83.]\n",
      " [ 1.  0.  1.  0.  1.  0. 70.]\n",
      " [ 1.  0.  1.  0.  1.  0. 68.]\n",
      " [ 1.  1.  0.  0.  1.  0. 65.]\n",
      " [ 1.  1.  1.  1.  0.  0. 64.]\n",
      " [ 1.  0.  0.  0.  0.  1. 72.]\n",
      " [ 1.  0.  1.  0.  0.  1. 69.]\n",
      " [ 1.  0.  1.  0.  1.  0. 75.]\n",
      " [ 1.  1.  1.  0.  0.  1. 75.]\n",
      " [ 1.  1.  1.  1.  0.  0. 72.]\n",
      " [ 1.  0.  1.  1.  0.  0. 81.]\n",
      " [ 1.  1.  0.  0.  1.  0. 71.]]\n"
     ]
    }
   ],
   "source": [
    "#p-value kullanarak değişkenlerin önem derecesine göre işleme sokmak\n",
    "import statsmodels.api as sm\n",
    "# beta 0 değerlerini ekleme\n",
    "X = np.append(arr=np.ones((14,1)).astype(int), values=sonveriler.iloc[:,:-1], axis=1)\n",
    "print(X)"
   ]
  },
  {
   "cell_type": "code",
   "execution_count": 43,
   "id": "79435cdd-4bc5-4a9f-83a9-0c4907a8b1b4",
   "metadata": {},
   "outputs": [
    {
     "name": "stdout",
     "output_type": "stream",
     "text": [
      "                            OLS Regression Results                            \n",
      "==============================================================================\n",
      "Dep. Variable:               humidity   R-squared:                       0.294\n",
      "Model:                            OLS   Adj. R-squared:                 -0.148\n",
      "Method:                 Least Squares   F-statistic:                    0.6653\n",
      "Date:                Sat, 02 Dec 2023   Prob (F-statistic):              0.661\n",
      "Time:                        22:18:37   Log-Likelihood:                -49.542\n",
      "No. Observations:                  14   AIC:                             111.1\n",
      "Df Residuals:                       8   BIC:                             114.9\n",
      "Df Model:                           5                                         \n",
      "Covariance Type:            nonrobust                                         \n",
      "==============================================================================\n",
      "                 coef    std err          t      P>|t|      [0.025      0.975]\n",
      "------------------------------------------------------------------------------\n",
      "x1            -4.0286      7.229     -0.557      0.593     -20.698      12.641\n",
      "x2            -8.2778      8.029     -1.031      0.333     -26.793      10.237\n",
      "x3            52.3891     50.214      1.043      0.327     -63.404     168.183\n",
      "x4            55.6337     45.233      1.230      0.254     -48.673     159.940\n",
      "x5            49.4291     48.337      1.023      0.336     -62.035     160.893\n",
      "x6             0.4920      0.597      0.825      0.433      -0.884       1.868\n",
      "==============================================================================\n",
      "Omnibus:                        0.935   Durbin-Watson:                   2.416\n",
      "Prob(Omnibus):                  0.627   Jarque-Bera (JB):                0.823\n",
      "Skew:                           0.389   Prob(JB):                        0.663\n",
      "Kurtosis:                       2.103   Cond. No.                     2.08e+03\n",
      "==============================================================================\n",
      "\n",
      "Notes:\n",
      "[1] Standard Errors assume that the covariance matrix of the errors is correctly specified.\n",
      "[2] The condition number is large, 2.08e+03. This might indicate that there are\n",
      "strong multicollinearity or other numerical problems.\n"
     ]
    }
   ],
   "source": [
    "#her bir değişkenin etki değerini bulma Backward eliminiation\n",
    "x_l = sonveriler.iloc[:,[0,1,2,3,4,5]].values\n",
    "x_l = np.array(x_l, dtype=float)\n",
    "model = sm.OLS(sonveriler.iloc[:,-1:],x_l).fit()\n",
    "print(model.summary())"
   ]
  },
  {
   "cell_type": "code",
   "execution_count": 46,
   "id": "51ef8a1a-9a8a-4c90-9b89-27aeb114965a",
   "metadata": {},
   "outputs": [
    {
     "name": "stdout",
     "output_type": "stream",
     "text": [
      "                            OLS Regression Results                            \n",
      "==============================================================================\n",
      "Dep. Variable:               humidity   R-squared:                       0.266\n",
      "Model:                            OLS   Adj. R-squared:                 -0.060\n",
      "Method:                 Least Squares   F-statistic:                    0.8165\n",
      "Date:                Sat, 02 Dec 2023   Prob (F-statistic):              0.546\n",
      "Time:                        22:34:28   Log-Likelihood:                -49.809\n",
      "No. Observations:                  14   AIC:                             109.6\n",
      "Df Residuals:                       9   BIC:                             112.8\n",
      "Df Model:                           4                                         \n",
      "Covariance Type:            nonrobust                                         \n",
      "==============================================================================\n",
      "                 coef    std err          t      P>|t|      [0.025      0.975]\n",
      "------------------------------------------------------------------------------\n",
      "x1            -6.2865      6.909     -0.910      0.387     -21.916       9.343\n",
      "x2            36.6564     39.905      0.919      0.382     -53.615     126.927\n",
      "x3            41.9135     36.464      1.149      0.280     -40.573     124.400\n",
      "x4            35.1064     39.339      0.892      0.395     -53.884     124.097\n",
      "x5             0.6484      0.506      1.282      0.232      -0.496       1.793\n",
      "==============================================================================\n",
      "Omnibus:                        0.887   Durbin-Watson:                   2.360\n",
      "Prob(Omnibus):                  0.642   Jarque-Bera (JB):                0.810\n",
      "Skew:                           0.424   Prob(JB):                        0.667\n",
      "Kurtosis:                       2.181   Cond. No.                     1.73e+03\n",
      "==============================================================================\n",
      "\n",
      "Notes:\n",
      "[1] Standard Errors assume that the covariance matrix of the errors is correctly specified.\n",
      "[2] The condition number is large, 1.73e+03. This might indicate that there are\n",
      "strong multicollinearity or other numerical problems.\n"
     ]
    },
    {
     "name": "stderr",
     "output_type": "stream",
     "text": [
      "/home/huseyin/.local/lib/python3.10/site-packages/scipy/stats/_stats_py.py:1806: UserWarning: kurtosistest only valid for n>=20 ... continuing anyway, n=14\n",
      "  warnings.warn(\"kurtosistest only valid for n>=20 ... continuing \"\n"
     ]
    }
   ],
   "source": [
    "x_l = sonveriler.iloc[:,[1,2,3,4,5]].values\n",
    "x_l = np.array(x_l, dtype=float)\n",
    "model = sm.OLS(sonveriler.iloc[:,-1:],x_l).fit()\n",
    "print(model.summary())"
   ]
  },
  {
   "cell_type": "code",
   "execution_count": 50,
   "id": "0d0703dd-141b-4cb5-a470-6300914b1111",
   "metadata": {},
   "outputs": [
    {
     "name": "stdout",
     "output_type": "stream",
     "text": [
      "[[86.03731343]\n",
      " [83.3681592 ]\n",
      " [82.90713101]\n",
      " [82.44610282]\n",
      " [81.17827529]]\n"
     ]
    }
   ],
   "source": [
    "x_train = x_train.iloc[:,1:]\n",
    "x_test = x_test.iloc[:,1:]\n",
    "regressor.fit(x_train, y_train)\n",
    "y_pred = regressor.predict(x_test)\n",
    "print(y_pred)"
   ]
  },
  {
   "cell_type": "code",
   "execution_count": null,
   "id": "0862fc55-c1e7-4ef4-ac59-00ea4c1b4be5",
   "metadata": {},
   "outputs": [],
   "source": []
  }
 ],
 "metadata": {
  "kernelspec": {
   "display_name": "Python 3 (ipykernel)",
   "language": "python",
   "name": "python3"
  },
  "language_info": {
   "codemirror_mode": {
    "name": "ipython",
    "version": 3
   },
   "file_extension": ".py",
   "mimetype": "text/x-python",
   "name": "python",
   "nbconvert_exporter": "python",
   "pygments_lexer": "ipython3",
   "version": "3.10.12"
  }
 },
 "nbformat": 4,
 "nbformat_minor": 5
}
