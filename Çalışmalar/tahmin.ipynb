{
 "cells": [
  {
   "cell_type": "code",
   "execution_count": 1,
   "id": "9e602331-32fb-4b66-b245-f3394976b942",
   "metadata": {},
   "outputs": [
    {
     "name": "stdout",
     "output_type": "stream",
     "text": [
      "    Aylar  Satislar\n",
      "0       8   19671.5\n",
      "1      10   23102.5\n",
      "2      11   18865.5\n",
      "3      13   21762.5\n",
      "4      14   19945.5\n",
      "5      19   28321.0\n",
      "6      19   30075.0\n",
      "7      20   27222.5\n",
      "8      20   32222.5\n",
      "9      24   28594.5\n",
      "10     25   31609.0\n",
      "11     25   27897.0\n",
      "12     25   28478.5\n",
      "13     26   28540.5\n",
      "14     29   30555.5\n",
      "15     31   33969.0\n",
      "16     32   33014.5\n",
      "17     34   41544.0\n",
      "18     37   40681.5\n",
      "19     37    4697.0\n",
      "20     42   45869.0\n",
      "21     44   49136.5\n",
      "22     49   50651.0\n",
      "23     50   56906.0\n",
      "24     54   54715.5\n",
      "25     55   52791.0\n",
      "26     59   58484.5\n",
      "27     59   56317.5\n",
      "28     64   61195.5\n",
      "29     65   60936.0\n"
     ]
    }
   ],
   "source": [
    "#Kütüphaneler\n",
    "import pandas as pd\n",
    "import matplotlib.pyplot as plt\n",
    "import numpy as np\n",
    "#veri yükleme\n",
    "veriler = pd.read_csv('satislar.csv')\n",
    "print(veriler)"
   ]
  },
  {
   "cell_type": "code",
   "execution_count": 3,
   "id": "8c93f72f-c715-4854-90bc-f11f3a5da281",
   "metadata": {},
   "outputs": [
    {
     "name": "stdout",
     "output_type": "stream",
     "text": [
      "    Aylar\n",
      "0       8\n",
      "1      10\n",
      "2      11\n",
      "3      13\n",
      "4      14\n",
      "5      19\n",
      "6      19\n",
      "7      20\n",
      "8      20\n",
      "9      24\n",
      "10     25\n",
      "11     25\n",
      "12     25\n",
      "13     26\n",
      "14     29\n",
      "15     31\n",
      "16     32\n",
      "17     34\n",
      "18     37\n",
      "19     37\n",
      "20     42\n",
      "21     44\n",
      "22     49\n",
      "23     50\n",
      "24     54\n",
      "25     55\n",
      "26     59\n",
      "27     59\n",
      "28     64\n",
      "29     65\n"
     ]
    }
   ],
   "source": [
    "#veri önişleme\n",
    "aylar = veriler[['Aylar']]\n",
    "print(aylar)"
   ]
  },
  {
   "cell_type": "code",
   "execution_count": 4,
   "id": "3834854b-b2e3-4f9c-8219-ed93533af0f8",
   "metadata": {},
   "outputs": [
    {
     "name": "stdout",
     "output_type": "stream",
     "text": [
      "    Satislar\n",
      "0    19671.5\n",
      "1    23102.5\n",
      "2    18865.5\n",
      "3    21762.5\n",
      "4    19945.5\n",
      "5    28321.0\n",
      "6    30075.0\n",
      "7    27222.5\n",
      "8    32222.5\n",
      "9    28594.5\n",
      "10   31609.0\n",
      "11   27897.0\n",
      "12   28478.5\n",
      "13   28540.5\n",
      "14   30555.5\n",
      "15   33969.0\n",
      "16   33014.5\n",
      "17   41544.0\n",
      "18   40681.5\n",
      "19    4697.0\n",
      "20   45869.0\n",
      "21   49136.5\n",
      "22   50651.0\n",
      "23   56906.0\n",
      "24   54715.5\n",
      "25   52791.0\n",
      "26   58484.5\n",
      "27   56317.5\n",
      "28   61195.5\n",
      "29   60936.0\n"
     ]
    }
   ],
   "source": [
    "satislar = veriler[['Satislar']]\n",
    "print(satislar)"
   ]
  },
  {
   "cell_type": "code",
   "execution_count": 5,
   "id": "688af5ad-6c62-43cd-9358-1c27f645a32d",
   "metadata": {},
   "outputs": [
    {
     "name": "stdout",
     "output_type": "stream",
     "text": [
      "[[ 8]\n",
      " [10]\n",
      " [11]\n",
      " [13]\n",
      " [14]\n",
      " [19]\n",
      " [19]\n",
      " [20]\n",
      " [20]\n",
      " [24]\n",
      " [25]\n",
      " [25]\n",
      " [25]\n",
      " [26]\n",
      " [29]\n",
      " [31]\n",
      " [32]\n",
      " [34]\n",
      " [37]\n",
      " [37]\n",
      " [42]\n",
      " [44]\n",
      " [49]\n",
      " [50]\n",
      " [54]\n",
      " [55]\n",
      " [59]\n",
      " [59]\n",
      " [64]\n",
      " [65]]\n"
     ]
    }
   ],
   "source": [
    "satislar2 = veriler.iloc[:,:1].values\n",
    "print(satislar2)"
   ]
  },
  {
   "cell_type": "code",
   "execution_count": 6,
   "id": "9ba8569c-fb45-4d3a-9a50-6f29095f35b2",
   "metadata": {},
   "outputs": [],
   "source": [
    "from sklearn.model_selection import train_test_split\n",
    "x_train, x_test, y_train, y_test =  train_test_split(aylar, satislar, test_size=0.33, random_state=0)"
   ]
  },
  {
   "cell_type": "code",
   "execution_count": 22,
   "id": "cb86d00c-c658-4e89-afcd-91545cba9cdf",
   "metadata": {},
   "outputs": [
    {
     "data": {
      "text/plain": [
       "(array([[-0.70368853],\n",
       "        [ 0.15126015],\n",
       "        [-0.63792324],\n",
       "        [-0.0460357 ],\n",
       "        [ 1.33503524],\n",
       "        [ 0.80891298],\n",
       "        [-1.29557607],\n",
       "        [ 2.32151449],\n",
       "        [-0.70368853],\n",
       "        [-1.03251494],\n",
       "        [ 0.48008657],\n",
       "        [ 0.48008657],\n",
       "        [-0.37486211],\n",
       "        [-0.63792324],\n",
       "        [ 1.66386166],\n",
       "        [-1.09828023],\n",
       "        [-1.42710664],\n",
       "        [ 0.94044355],\n",
       "        [ 0.08549487],\n",
       "        [-0.30909683]]),\n",
       " array([[-0.37273507],\n",
       "        [-0.02812804],\n",
       "        [-0.08627841],\n",
       "        [-0.20867319],\n",
       "        [ 1.72603811],\n",
       "        [ 0.91567744],\n",
       "        [-0.75588874],\n",
       "        [ 2.02192951],\n",
       "        [-0.24395255],\n",
       "        [-0.98768258],\n",
       "        [ 0.53479986],\n",
       "        [-2.10726078],\n",
       "        [-0.3526541 ],\n",
       "        [-0.45338934],\n",
       "        [ 1.42390581],\n",
       "        [-0.85427447],\n",
       "        [-1.00780026],\n",
       "        [ 1.15558444],\n",
       "        [ 0.04195344],\n",
       "        [-0.36117107]]))"
      ]
     },
     "execution_count": 22,
     "metadata": {},
     "output_type": "execute_result"
    }
   ],
   "source": [
    "from sklearn.preprocessing import StandardScaler\n",
    "sc = StandardScaler()\n",
    "X_test = sc.fit_transform(x_test)\n",
    "X_train = sc.fit_transform(x_train)\n",
    "Y_test = sc.fit_transform(y_test)\n",
    "Y_train = sc.fit_transform(y_train)"
   ]
  },
  {
   "cell_type": "code",
   "execution_count": 24,
   "id": "052d8eb2-1477-4e72-893a-23d8b17d94b3",
   "metadata": {},
   "outputs": [
    {
     "name": "stdout",
     "output_type": "stream",
     "text": [
      "[[20126.21865404]\n",
      " [57740.29412655]\n",
      " [30771.7117123 ]\n",
      " [30062.01217508]\n",
      " [54191.79644047]\n",
      " [50643.29875438]\n",
      " [54191.79644047]\n",
      " [30062.01217508]\n",
      " [36449.30801003]\n",
      " [47094.80106829]]\n"
     ]
    }
   ],
   "source": [
    "#model inşası(Linear Regression)\n",
    "from sklearn.linear_model import LinearRegression\n",
    "lreg = LinearRegression()\n",
    "lreg.fit(x_train,y_train)\n",
    "tahmin = lreg.predict(x_test)\n",
    "print(tahmin)\n",
    "#X_trainden Y_traini ögrendi X_testden de gerçek sonuç Y_test  lakin X_testi predite soktuk"
   ]
  },
  {
   "cell_type": "code",
   "execution_count": 35,
   "id": "afc1faf5-a341-4a6f-a2eb-51ea3199a82b",
   "metadata": {},
   "outputs": [
    {
     "data": {
      "text/plain": [
       "Text(0, 0.5, 'Satışlar')"
      ]
     },
     "execution_count": 35,
     "metadata": {},
     "output_type": "execute_result"
    },
    {
     "data": {
      "image/png": "[encoded data removed]",
      "text/plain": [
       "<Figure size 640x480 with 1 Axes>"
      ]
     },
     "metadata": {},
     "output_type": "display_data"
    }
   ],
   "source": [
    "#grafik oluşturma\n",
    "x_train = x_train.sort_index()\n",
    "y_train = y_train.sort_index()\n",
    "plt.plot(x_train, y_train)\n",
    "plt.plot(x_test, lreg.predict(x_test))\n",
    "plt.title('Aylara göre satış')\n",
    "plt.xlabel('Aylar')\n",
    "plt.ylabel('Satışlar')"
   ]
  },
  {
   "cell_type": "code",
   "execution_count": null,
   "id": "a70b6f24-8931-4269-a247-d7d560c96e2d",
   "metadata": {},
   "outputs": [],
   "source": []
  }
 ],
 "metadata": {
  "kernelspec": {
   "display_name": "Python 3 (ipykernel)",
   "language": "python",
   "name": "python3"
  },
  "language_info": {
   "codemirror_mode": {
    "name": "ipython",
    "version": 3
   },
   "file_extension": ".py",
   "mimetype": "text/x-python",
   "name": "python",
   "nbconvert_exporter": "python",
   "pygments_lexer": "ipython3",
   "version": "3.10.12"
  }
 },
 "nbformat": 4,
 "nbformat_minor": 5
}
