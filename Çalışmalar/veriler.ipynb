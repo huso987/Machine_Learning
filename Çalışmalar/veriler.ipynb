{
 "cells": [
  {
   "cell_type": "code",
   "execution_count": 16,
   "id": "49c281b9-1d7a-4136-a265-c8d67fc6cb27",
   "metadata": {},
   "outputs": [
    {
     "name": "stdout",
     "output_type": "stream",
     "text": [
      "   ulke  boy  kilo  yas cinsiyet\n",
      "0    tr  130    30   10        e\n",
      "1    tr  125    36   11        e\n",
      "2    tr  135    34   10        k\n",
      "3    tr  133    30    9        k\n",
      "4    tr  129    38   12        e\n",
      "5    tr  180    90   30        e\n",
      "6    tr  190    80   25        e\n",
      "7    tr  175    90   35        e\n",
      "8    tr  177    60   22        k\n",
      "9    us  185   105   33        e\n",
      "10   us  165    55   27        k\n",
      "11   us  155    50   44        k\n",
      "12   us  160    58   39        k\n",
      "13   us  162    59   41        k\n",
      "14   us  167    62   55        k\n",
      "15   fr  174    70   47        e\n",
      "16   fr  193    90   23        e\n",
      "17   fr  187    80   27        e\n",
      "18   fr  183    88   28        e\n",
      "19   fr  159    40   29        k\n",
      "20   fr  164    66   32        k\n",
      "21   fr  166    56   42        k\n"
     ]
    }
   ],
   "source": [
    "#Kütüphaneler\n",
    "import pandas as pd\n",
    "import matplotlib.pyplot as plt\n",
    "import numpy as np\n",
    "#veri yükleme\n",
    "veriler = pd.read_csv('veriler.csv')\n",
    "print(veriler)"
   ]
  },
  {
   "cell_type": "code",
   "execution_count": 17,
   "id": "67a7687b-653a-4d5c-bf0e-e4d02508dd1a",
   "metadata": {},
   "outputs": [
    {
     "name": "stdout",
     "output_type": "stream",
     "text": [
      "    boy\n",
      "0   130\n",
      "1   125\n",
      "2   135\n",
      "3   133\n",
      "4   129\n",
      "5   180\n",
      "6   190\n",
      "7   175\n",
      "8   177\n",
      "9   185\n",
      "10  165\n",
      "11  155\n",
      "12  160\n",
      "13  162\n",
      "14  167\n",
      "15  174\n",
      "16  193\n",
      "17  187\n",
      "18  183\n",
      "19  159\n",
      "20  164\n",
      "21  166\n"
     ]
    }
   ],
   "source": [
    "#veri önişleme\n",
    "boy = veriler[['boy']]\n",
    "print(boy)"
   ]
  },
  {
   "cell_type": "code",
   "execution_count": 18,
   "id": "1bcb43f4-15ef-491b-947a-a6e780abd861",
   "metadata": {},
   "outputs": [
    {
     "name": "stdout",
     "output_type": "stream",
     "text": [
      "    boy  kilo\n",
      "0   130    30\n",
      "1   125    36\n",
      "2   135    34\n",
      "3   133    30\n",
      "4   129    38\n",
      "5   180    90\n",
      "6   190    80\n",
      "7   175    90\n",
      "8   177    60\n",
      "9   185   105\n",
      "10  165    55\n",
      "11  155    50\n",
      "12  160    58\n",
      "13  162    59\n",
      "14  167    62\n",
      "15  174    70\n",
      "16  193    90\n",
      "17  187    80\n",
      "18  183    88\n",
      "19  159    40\n",
      "20  164    66\n",
      "21  166    56\n"
     ]
    }
   ],
   "source": [
    "#veri ön işleme\n",
    "boy_kilo = veriler[['boy', 'kilo']]\n",
    "print(boy_kilo)"
   ]
  },
  {
   "cell_type": "code",
   "execution_count": 31,
   "id": "1defe80a-5019-42fd-a165-ac54c411d854",
   "metadata": {},
   "outputs": [
    {
     "name": "stdout",
     "output_type": "stream",
     "text": [
      "[[130.  30.  10.]\n",
      " [125.  36.  11.]\n",
      " [135.  34.  10.]\n",
      " [133.  30.   9.]\n",
      " [129.  38.  12.]\n",
      " [180.  90.  30.]\n",
      " [190.  80.  25.]\n",
      " [175.  90.  35.]\n",
      " [177.  60.  22.]\n",
      " [185. 105.  33.]\n",
      " [165.  55.  27.]\n",
      " [155.  50.  44.]\n",
      " [160.  58.  nan]\n",
      " [162.  59.  41.]\n",
      " [167.  62.  55.]\n",
      " [174.  70.  47.]\n",
      " [193.  90.  nan]\n",
      " [187.  80.  27.]\n",
      " [183.  88.  28.]\n",
      " [159.  40.  29.]\n",
      " [164.  66.  32.]\n",
      " [166.  56.  42.]]\n",
      "[[130.    30.    10.  ]\n",
      " [125.    36.    11.  ]\n",
      " [135.    34.    10.  ]\n",
      " [133.    30.     9.  ]\n",
      " [129.    38.    12.  ]\n",
      " [180.    90.    30.  ]\n",
      " [190.    80.    25.  ]\n",
      " [175.    90.    35.  ]\n",
      " [177.    60.    22.  ]\n",
      " [185.   105.    33.  ]\n",
      " [165.    55.    27.  ]\n",
      " [155.    50.    44.  ]\n",
      " [160.    58.    28.45]\n",
      " [162.    59.    41.  ]\n",
      " [167.    62.    55.  ]\n",
      " [174.    70.    47.  ]\n",
      " [193.    90.    28.45]\n",
      " [187.    80.    27.  ]\n",
      " [183.    88.    28.  ]\n",
      " [159.    40.    29.  ]\n",
      " [164.    66.    32.  ]\n",
      " [166.    56.    42.  ]]\n"
     ]
    }
   ],
   "source": [
    "#eksik veriler\n",
    "eksik_veriler = pd.read_csv('eksikveriler.csv')\n",
    "from sklearn.impute import SimpleImputer\n",
    "imputer = SimpleImputer(missing_values=np.nan, strategy='mean')\n",
    "yas = eksik_veriler.iloc[:,1:4].values\n",
    "print(yas)\n",
    "#fit() fonksiyonu ile ögretiyoruz\n",
    "imputer = imputer.fit(yas[:,1:4])\n",
    "#transform()  uygulama aşaması\n",
    "yas[:,1:4] = imputer.transform(yas[:,1:4])\n",
    "print(yas)"
   ]
  },
  {
   "cell_type": "code",
   "execution_count": 38,
   "id": "92b5a0cc-8398-4823-828a-04d79f4b8109",
   "metadata": {},
   "outputs": [
    {
     "name": "stdout",
     "output_type": "stream",
     "text": [
      "[['tr']\n",
      " ['tr']\n",
      " ['tr']\n",
      " ['tr']\n",
      " ['tr']\n",
      " ['tr']\n",
      " ['tr']\n",
      " ['tr']\n",
      " ['tr']\n",
      " ['us']\n",
      " ['us']\n",
      " ['us']\n",
      " ['us']\n",
      " ['us']\n",
      " ['us']\n",
      " ['fr']\n",
      " ['fr']\n",
      " ['fr']\n",
      " ['fr']\n",
      " ['fr']\n",
      " ['fr']\n",
      " ['fr']]\n"
     ]
    }
   ],
   "source": [
    "#kategorik verilerin encode edilmesi yani sayısal değere dönüştürülmesi\n",
    "ulke = veriler.iloc[:,0:1].values\n",
    "print(ulke)"
   ]
  },
  {
   "cell_type": "code",
   "execution_count": 39,
   "id": "48e7f91c-ad13-43c9-8160-9aa59406fb29",
   "metadata": {},
   "outputs": [
    {
     "name": "stdout",
     "output_type": "stream",
     "text": [
      "[[1]\n",
      " [1]\n",
      " [1]\n",
      " [1]\n",
      " [1]\n",
      " [1]\n",
      " [1]\n",
      " [1]\n",
      " [1]\n",
      " [2]\n",
      " [2]\n",
      " [2]\n",
      " [2]\n",
      " [2]\n",
      " [2]\n",
      " [0]\n",
      " [0]\n",
      " [0]\n",
      " [0]\n",
      " [0]\n",
      " [0]\n",
      " [0]]\n"
     ]
    }
   ],
   "source": [
    "from sklearn import preprocessing\n",
    "le = preprocessing.LabelEncoder()\n",
    "ulke[:,0] = le.fit_transform(veriler.iloc[:,0])\n",
    "print(ulke)"
   ]
  },
  {
   "cell_type": "code",
   "execution_count": 40,
   "id": "380bdb7f-84fd-4f7a-a799-36fe85f9ec31",
   "metadata": {},
   "outputs": [
    {
     "name": "stdout",
     "output_type": "stream",
     "text": [
      "[[0. 1. 0.]\n",
      " [0. 1. 0.]\n",
      " [0. 1. 0.]\n",
      " [0. 1. 0.]\n",
      " [0. 1. 0.]\n",
      " [0. 1. 0.]\n",
      " [0. 1. 0.]\n",
      " [0. 1. 0.]\n",
      " [0. 1. 0.]\n",
      " [0. 0. 1.]\n",
      " [0. 0. 1.]\n",
      " [0. 0. 1.]\n",
      " [0. 0. 1.]\n",
      " [0. 0. 1.]\n",
      " [0. 0. 1.]\n",
      " [1. 0. 0.]\n",
      " [1. 0. 0.]\n",
      " [1. 0. 0.]\n",
      " [1. 0. 0.]\n",
      " [1. 0. 0.]\n",
      " [1. 0. 0.]\n",
      " [1. 0. 0.]]\n"
     ]
    }
   ],
   "source": [
    "ohe = preprocessing.OneHotEncoder()\n",
    "ulke = ohe.fit_transform(ulke).toarray()\n",
    "print(ulke)"
   ]
  },
  {
   "cell_type": "code",
   "execution_count": 43,
   "id": "560ad7a0-f7e5-4792-bac6-e5acc3d10e65",
   "metadata": {},
   "outputs": [
    {
     "name": "stdout",
     "output_type": "stream",
     "text": [
      "     fr   tr   us\n",
      "0   0.0  1.0  0.0\n",
      "1   0.0  1.0  0.0\n",
      "2   0.0  1.0  0.0\n",
      "3   0.0  1.0  0.0\n",
      "4   0.0  1.0  0.0\n",
      "5   0.0  1.0  0.0\n",
      "6   0.0  1.0  0.0\n",
      "7   0.0  1.0  0.0\n",
      "8   0.0  1.0  0.0\n",
      "9   0.0  0.0  1.0\n",
      "10  0.0  0.0  1.0\n",
      "11  0.0  0.0  1.0\n",
      "12  0.0  0.0  1.0\n",
      "13  0.0  0.0  1.0\n",
      "14  0.0  0.0  1.0\n",
      "15  1.0  0.0  0.0\n",
      "16  1.0  0.0  0.0\n",
      "17  1.0  0.0  0.0\n",
      "18  1.0  0.0  0.0\n",
      "19  1.0  0.0  0.0\n",
      "20  1.0  0.0  0.0\n",
      "21  1.0  0.0  0.0\n"
     ]
    }
   ],
   "source": [
    "sonuc = pd.DataFrame(data=ulke, index= range(22), columns= ['fr', 'tr', 'us'])\n",
    "print(sonuc)"
   ]
  },
  {
   "cell_type": "code",
   "execution_count": 44,
   "id": "9bfc5915-e329-4d9e-9c6c-00c09aaa4019",
   "metadata": {},
   "outputs": [
    {
     "name": "stdout",
     "output_type": "stream",
     "text": [
      "      boy   kilo    yas\n",
      "0   130.0   30.0  10.00\n",
      "1   125.0   36.0  11.00\n",
      "2   135.0   34.0  10.00\n",
      "3   133.0   30.0   9.00\n",
      "4   129.0   38.0  12.00\n",
      "5   180.0   90.0  30.00\n",
      "6   190.0   80.0  25.00\n",
      "7   175.0   90.0  35.00\n",
      "8   177.0   60.0  22.00\n",
      "9   185.0  105.0  33.00\n",
      "10  165.0   55.0  27.00\n",
      "11  155.0   50.0  44.00\n",
      "12  160.0   58.0  28.45\n",
      "13  162.0   59.0  41.00\n",
      "14  167.0   62.0  55.00\n",
      "15  174.0   70.0  47.00\n",
      "16  193.0   90.0  28.45\n",
      "17  187.0   80.0  27.00\n",
      "18  183.0   88.0  28.00\n",
      "19  159.0   40.0  29.00\n",
      "20  164.0   66.0  32.00\n",
      "21  166.0   56.0  42.00\n"
     ]
    }
   ],
   "source": [
    "sonuc2 = pd.DataFrame(data=yas, index=range(22), columns= ['boy', 'kilo', 'yas'])\n",
    "print(sonuc2)"
   ]
  },
  {
   "cell_type": "code",
   "execution_count": 45,
   "id": "18d1dff7-a6c5-4814-a613-38628c0ac62c",
   "metadata": {},
   "outputs": [
    {
     "name": "stdout",
     "output_type": "stream",
     "text": [
      "['e' 'e' 'k' 'k' 'e' 'e' 'e' 'e' 'k' 'e' 'k' 'k' 'k' 'k' 'k' 'e' 'e' 'e'\n",
      " 'e' 'k' 'k' 'k']\n"
     ]
    }
   ],
   "source": [
    "cinsiyet = veriler.iloc[:,-1].values\n",
    "print(cinsiyet)"
   ]
  },
  {
   "cell_type": "code",
   "execution_count": 48,
   "id": "459d2e51-9d0f-404c-a51c-eeb0a4f2d57c",
   "metadata": {},
   "outputs": [
    {
     "name": "stdout",
     "output_type": "stream",
     "text": [
      "   cinsiyet\n",
      "0         e\n",
      "1         e\n",
      "2         k\n",
      "3         k\n",
      "4         e\n",
      "5         e\n",
      "6         e\n",
      "7         e\n",
      "8         k\n",
      "9         e\n",
      "10        k\n",
      "11        k\n",
      "12        k\n",
      "13        k\n",
      "14        k\n",
      "15        e\n",
      "16        e\n",
      "17        e\n",
      "18        e\n",
      "19        k\n",
      "20        k\n",
      "21        k\n"
     ]
    }
   ],
   "source": [
    "sonuc3 = pd.DataFrame(data=cinsiyet, index=range(22), columns= ['cinsiyet'])\n",
    "print(sonuc3)"
   ]
  },
  {
   "cell_type": "code",
   "execution_count": 49,
   "id": "59793fc5-9b54-48fc-a19f-c7a0bbe24bea",
   "metadata": {},
   "outputs": [
    {
     "name": "stdout",
     "output_type": "stream",
     "text": [
      "     fr   tr   us    boy   kilo    yas\n",
      "0   0.0  1.0  0.0    NaN    NaN    NaN\n",
      "1   0.0  1.0  0.0    NaN    NaN    NaN\n",
      "2   0.0  1.0  0.0    NaN    NaN    NaN\n",
      "3   0.0  1.0  0.0    NaN    NaN    NaN\n",
      "4   0.0  1.0  0.0    NaN    NaN    NaN\n",
      "5   0.0  1.0  0.0    NaN    NaN    NaN\n",
      "6   0.0  1.0  0.0    NaN    NaN    NaN\n",
      "7   0.0  1.0  0.0    NaN    NaN    NaN\n",
      "8   0.0  1.0  0.0    NaN    NaN    NaN\n",
      "9   0.0  0.0  1.0    NaN    NaN    NaN\n",
      "10  0.0  0.0  1.0    NaN    NaN    NaN\n",
      "11  0.0  0.0  1.0    NaN    NaN    NaN\n",
      "12  0.0  0.0  1.0    NaN    NaN    NaN\n",
      "13  0.0  0.0  1.0    NaN    NaN    NaN\n",
      "14  0.0  0.0  1.0    NaN    NaN    NaN\n",
      "15  1.0  0.0  0.0    NaN    NaN    NaN\n",
      "16  1.0  0.0  0.0    NaN    NaN    NaN\n",
      "17  1.0  0.0  0.0    NaN    NaN    NaN\n",
      "18  1.0  0.0  0.0    NaN    NaN    NaN\n",
      "19  1.0  0.0  0.0    NaN    NaN    NaN\n",
      "20  1.0  0.0  0.0    NaN    NaN    NaN\n",
      "21  1.0  0.0  0.0    NaN    NaN    NaN\n",
      "0   NaN  NaN  NaN  130.0   30.0  10.00\n",
      "1   NaN  NaN  NaN  125.0   36.0  11.00\n",
      "2   NaN  NaN  NaN  135.0   34.0  10.00\n",
      "3   NaN  NaN  NaN  133.0   30.0   9.00\n",
      "4   NaN  NaN  NaN  129.0   38.0  12.00\n",
      "5   NaN  NaN  NaN  180.0   90.0  30.00\n",
      "6   NaN  NaN  NaN  190.0   80.0  25.00\n",
      "7   NaN  NaN  NaN  175.0   90.0  35.00\n",
      "8   NaN  NaN  NaN  177.0   60.0  22.00\n",
      "9   NaN  NaN  NaN  185.0  105.0  33.00\n",
      "10  NaN  NaN  NaN  165.0   55.0  27.00\n",
      "11  NaN  NaN  NaN  155.0   50.0  44.00\n",
      "12  NaN  NaN  NaN  160.0   58.0  28.45\n",
      "13  NaN  NaN  NaN  162.0   59.0  41.00\n",
      "14  NaN  NaN  NaN  167.0   62.0  55.00\n",
      "15  NaN  NaN  NaN  174.0   70.0  47.00\n",
      "16  NaN  NaN  NaN  193.0   90.0  28.45\n",
      "17  NaN  NaN  NaN  187.0   80.0  27.00\n",
      "18  NaN  NaN  NaN  183.0   88.0  28.00\n",
      "19  NaN  NaN  NaN  159.0   40.0  29.00\n",
      "20  NaN  NaN  NaN  164.0   66.0  32.00\n",
      "21  NaN  NaN  NaN  166.0   56.0  42.00\n"
     ]
    }
   ],
   "source": [
    "t = pd.concat([sonuc, sonuc2])\n",
    "print(t)"
   ]
  },
  {
   "cell_type": "code",
   "execution_count": 53,
   "id": "26c92bc6-f899-4b1f-b7ac-3144796c2047",
   "metadata": {},
   "outputs": [
    {
     "name": "stdout",
     "output_type": "stream",
     "text": [
      "     fr   tr   us    boy   kilo    yas\n",
      "0   0.0  1.0  0.0  130.0   30.0  10.00\n",
      "1   0.0  1.0  0.0  125.0   36.0  11.00\n",
      "2   0.0  1.0  0.0  135.0   34.0  10.00\n",
      "3   0.0  1.0  0.0  133.0   30.0   9.00\n",
      "4   0.0  1.0  0.0  129.0   38.0  12.00\n",
      "5   0.0  1.0  0.0  180.0   90.0  30.00\n",
      "6   0.0  1.0  0.0  190.0   80.0  25.00\n",
      "7   0.0  1.0  0.0  175.0   90.0  35.00\n",
      "8   0.0  1.0  0.0  177.0   60.0  22.00\n",
      "9   0.0  0.0  1.0  185.0  105.0  33.00\n",
      "10  0.0  0.0  1.0  165.0   55.0  27.00\n",
      "11  0.0  0.0  1.0  155.0   50.0  44.00\n",
      "12  0.0  0.0  1.0  160.0   58.0  28.45\n",
      "13  0.0  0.0  1.0  162.0   59.0  41.00\n",
      "14  0.0  0.0  1.0  167.0   62.0  55.00\n",
      "15  1.0  0.0  0.0  174.0   70.0  47.00\n",
      "16  1.0  0.0  0.0  193.0   90.0  28.45\n",
      "17  1.0  0.0  0.0  187.0   80.0  27.00\n",
      "18  1.0  0.0  0.0  183.0   88.0  28.00\n",
      "19  1.0  0.0  0.0  159.0   40.0  29.00\n",
      "20  1.0  0.0  0.0  164.0   66.0  32.00\n",
      "21  1.0  0.0  0.0  166.0   56.0  42.00\n"
     ]
    }
   ],
   "source": [
    "s = pd.concat([sonuc, sonuc2], axis=1)\n",
    "print(s)"
   ]
  },
  {
   "cell_type": "code",
   "execution_count": 55,
   "id": "cab64233-8837-40b7-bbb6-27e233dc4328",
   "metadata": {},
   "outputs": [
    {
     "name": "stdout",
     "output_type": "stream",
     "text": [
      "     fr   tr   us    boy   kilo    yas cinsiyet\n",
      "0   0.0  1.0  0.0  130.0   30.0  10.00        e\n",
      "1   0.0  1.0  0.0  125.0   36.0  11.00        e\n",
      "2   0.0  1.0  0.0  135.0   34.0  10.00        k\n",
      "3   0.0  1.0  0.0  133.0   30.0   9.00        k\n",
      "4   0.0  1.0  0.0  129.0   38.0  12.00        e\n",
      "5   0.0  1.0  0.0  180.0   90.0  30.00        e\n",
      "6   0.0  1.0  0.0  190.0   80.0  25.00        e\n",
      "7   0.0  1.0  0.0  175.0   90.0  35.00        e\n",
      "8   0.0  1.0  0.0  177.0   60.0  22.00        k\n",
      "9   0.0  0.0  1.0  185.0  105.0  33.00        e\n",
      "10  0.0  0.0  1.0  165.0   55.0  27.00        k\n",
      "11  0.0  0.0  1.0  155.0   50.0  44.00        k\n",
      "12  0.0  0.0  1.0  160.0   58.0  28.45        k\n",
      "13  0.0  0.0  1.0  162.0   59.0  41.00        k\n",
      "14  0.0  0.0  1.0  167.0   62.0  55.00        k\n",
      "15  1.0  0.0  0.0  174.0   70.0  47.00        e\n",
      "16  1.0  0.0  0.0  193.0   90.0  28.45        e\n",
      "17  1.0  0.0  0.0  187.0   80.0  27.00        e\n",
      "18  1.0  0.0  0.0  183.0   88.0  28.00        e\n",
      "19  1.0  0.0  0.0  159.0   40.0  29.00        k\n",
      "20  1.0  0.0  0.0  164.0   66.0  32.00        k\n",
      "21  1.0  0.0  0.0  166.0   56.0  42.00        k\n"
     ]
    }
   ],
   "source": [
    "s2 = pd.concat([s, sonuc3], axis=1)\n",
    "print(s2)"
   ]
  },
  {
   "cell_type": "code",
   "execution_count": 57,
   "id": "cb9a366c-676a-4ab7-b71a-bf79d244b796",
   "metadata": {},
   "outputs": [],
   "source": [
    "#veriyi train ve test  ile bölmek\n",
    "from sklearn.model_selection import train_test_split\n",
    "x_train, x_test, y_train, y_test =  train_test_split(s, sonuc3, test_size=0.33, random_state=0)"
   ]
  },
  {
   "cell_type": "code",
   "execution_count": 72,
   "id": "c697c45b-161a-4946-b1c9-d7a35bf20b7c",
   "metadata": {},
   "outputs": [
    {
     "data": {
      "text/plain": [
       "(     fr   tr   us    boy  kilo   yas\n",
       " 20  1.0  0.0  0.0  164.0  66.0  32.0\n",
       " 10  0.0  0.0  1.0  165.0  55.0  27.0\n",
       " 14  0.0  0.0  1.0  167.0  62.0  55.0\n",
       " 13  0.0  0.0  1.0  162.0  59.0  41.0\n",
       " 1   0.0  1.0  0.0  125.0  36.0  11.0\n",
       " 21  1.0  0.0  0.0  166.0  56.0  42.0\n",
       " 11  0.0  0.0  1.0  155.0  50.0  44.0\n",
       " 19  1.0  0.0  0.0  159.0  40.0  29.0,\n",
       "    cinsiyet\n",
       " 20        k\n",
       " 10        k\n",
       " 14        k\n",
       " 13        k\n",
       " 1         e\n",
       " 21        k\n",
       " 11        k\n",
       " 19        k,\n",
       "      fr   tr   us    boy   kilo    yas\n",
       " 8   0.0  1.0  0.0  177.0   60.0  22.00\n",
       " 6   0.0  1.0  0.0  190.0   80.0  25.00\n",
       " 16  1.0  0.0  0.0  193.0   90.0  28.45\n",
       " 4   0.0  1.0  0.0  129.0   38.0  12.00\n",
       " 2   0.0  1.0  0.0  135.0   34.0  10.00\n",
       " 5   0.0  1.0  0.0  180.0   90.0  30.00\n",
       " 17  1.0  0.0  0.0  187.0   80.0  27.00\n",
       " 9   0.0  0.0  1.0  185.0  105.0  33.00\n",
       " 7   0.0  1.0  0.0  175.0   90.0  35.00\n",
       " 18  1.0  0.0  0.0  183.0   88.0  28.00\n",
       " 3   0.0  1.0  0.0  133.0   30.0   9.00\n",
       " 0   0.0  1.0  0.0  130.0   30.0  10.00\n",
       " 15  1.0  0.0  0.0  174.0   70.0  47.00\n",
       " 12  0.0  0.0  1.0  160.0   58.0  28.45,\n",
       "    cinsiyet\n",
       " 8         k\n",
       " 6         e\n",
       " 16        e\n",
       " 4         e\n",
       " 2         k\n",
       " 5         e\n",
       " 17        e\n",
       " 9         e\n",
       " 7         e\n",
       " 18        e\n",
       " 3         k\n",
       " 0         e\n",
       " 15        e\n",
       " 12        k)"
      ]
     },
     "execution_count": 72,
     "metadata": {},
     "output_type": "execute_result"
    }
   ],
   "source": [
    "x_test, y_test, x_train, y_train"
   ]
  },
  {
   "cell_type": "code",
   "execution_count": 87,
   "id": "a99ff328-35ca-447a-aed8-ca01db363ed3",
   "metadata": {},
   "outputs": [
    {
     "data": {
      "text/plain": [
       "array([[ 1.29099445, -0.37796447, -1.        ,  0.47240026,  1.32853794,\n",
       "        -0.24991255],\n",
       "       [-0.77459667, -0.37796447,  1.        ,  0.54952683,  0.20439045,\n",
       "        -0.64977262],\n",
       "       [-0.77459667, -0.37796447,  1.        ,  0.70377998,  0.91975703,\n",
       "         1.58944379],\n",
       "       [-0.77459667, -0.37796447,  1.        ,  0.31814711,  0.61317136,\n",
       "         0.46983559],\n",
       "       [-0.77459667,  2.64575131, -1.        , -2.53553608, -1.73731884,\n",
       "        -1.92932485],\n",
       "       [ 1.29099445, -0.37796447, -1.        ,  0.6266534 ,  0.30658568,\n",
       "         0.5498076 ],\n",
       "       [-0.77459667, -0.37796447,  1.        , -0.2217389 , -0.30658568,\n",
       "         0.70975163],\n",
       "       [ 1.29099445, -0.37796447, -1.        ,  0.08676739, -1.32853794,\n",
       "        -0.48982859]])"
      ]
     },
     "execution_count": 87,
     "metadata": {},
     "output_type": "execute_result"
    }
   ],
   "source": [
    "#özellikleri aynı aralıga getirme\n",
    "from sklearn.preprocessing import StandardScaler\n",
    "sc = StandardScaler()\n",
    "X_test = sc.fit_transform(x_test)\n",
    "X_test"
   ]
  },
  {
   "cell_type": "code",
   "execution_count": 89,
   "id": "25bd0e74-0090-4df2-af78-8c96b1d63cd0",
   "metadata": {},
   "outputs": [
    {
     "data": {
      "text/plain": [
       "array([[-0.63245553,  0.8660254 , -0.40824829,  0.45049444, -0.29657884,\n",
       "        -0.24717129],\n",
       "       [-0.63245553,  0.8660254 , -0.40824829,  1.00824945,  0.5096549 ,\n",
       "         0.03416189],\n",
       "       [ 1.58113883, -1.15470054, -0.40824829,  1.13696215,  0.91277178,\n",
       "         0.35769504],\n",
       "       [-0.63245553,  0.8660254 , -0.40824829, -1.6089087 , -1.18343596,\n",
       "        -1.18494855],\n",
       "       [-0.63245553,  0.8660254 , -0.40824829, -1.35148331, -1.34468271,\n",
       "        -1.372504  ],\n",
       "       [-0.63245553,  0.8660254 , -0.40824829,  0.57920713,  0.91277178,\n",
       "         0.50305051],\n",
       "       [ 1.58113883, -1.15470054, -0.40824829,  0.87953676,  0.5096549 ,\n",
       "         0.22171734],\n",
       "       [-0.63245553, -1.15470054,  2.44948974,  0.79372829,  1.51744708,\n",
       "         0.78438369],\n",
       "       [-0.63245553,  0.8660254 , -0.40824829,  0.36468597,  0.91277178,\n",
       "         0.97193914],\n",
       "       [ 1.58113883, -1.15470054, -0.40824829,  0.70791983,  0.8321484 ,\n",
       "         0.31549506],\n",
       "       [-0.63245553,  0.8660254 , -0.40824829, -1.43729177, -1.50592946,\n",
       "        -1.46628173],\n",
       "       [-0.63245553,  0.8660254 , -0.40824829, -1.56600447, -1.50592946,\n",
       "        -1.372504  ],\n",
       "       [ 1.58113883, -1.15470054, -0.40824829,  0.32178174,  0.10653803,\n",
       "         2.09727185],\n",
       "       [-0.63245553, -1.15470054,  2.44948974, -0.27887751, -0.37720222,\n",
       "         0.35769504]])"
      ]
     },
     "execution_count": 89,
     "metadata": {},
     "output_type": "execute_result"
    }
   ],
   "source": [
    "X_train = sc.fit_transform(x_train)\n",
    "X_train"
   ]
  },
  {
   "cell_type": "code",
   "execution_count": null,
   "id": "605a6372-f8f2-44d8-8c81-b83757a9c63d",
   "metadata": {},
   "outputs": [],
   "source": []
  }
 ],
 "metadata": {
  "kernelspec": {
   "display_name": "Python 3 (ipykernel)",
   "language": "python",
   "name": "python3"
  },
  "language_info": {
   "codemirror_mode": {
    "name": "ipython",
    "version": 3
   },
   "file_extension": ".py",
   "mimetype": "text/x-python",
   "name": "python",
   "nbconvert_exporter": "python",
   "pygments_lexer": "ipython3",
   "version": "3.10.12"
  }
 },
 "nbformat": 4,
 "nbformat_minor": 5
}
